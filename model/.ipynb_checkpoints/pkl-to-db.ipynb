{
 "cells": [
  {
   "cell_type": "code",
   "execution_count": 8,
   "id": "507d0a54",
   "metadata": {},
   "outputs": [],
   "source": [
    "import sqlite3\n",
    "import pandas as pd\n",
    "import sqlalchemy\n",
    "import pickle"
   ]
  },
  {
   "cell_type": "code",
   "execution_count": 9,
   "id": "1aa4aa05",
   "metadata": {},
   "outputs": [],
   "source": [
    "engine = sqlalchemy.create_engine('sqlite:///choice.sqlite')"
   ]
  },
  {
   "cell_type": "code",
   "execution_count": 10,
   "id": "5425b8f3",
   "metadata": {},
   "outputs": [],
   "source": [
    "choice = pickle.load(open(r\"C:\\\\Users\\\\91817\\\\Desktop\\MOODZ\\model\\\\choice.pkl\", 'rb'))"
   ]
  },
  {
   "cell_type": "code",
   "execution_count": 11,
   "id": "af505a5c",
   "metadata": {},
   "outputs": [],
   "source": [
    "choice = pd.DataFrame(choice, columns= ['movie_id','title','genres','cast','popularity'])"
   ]
  },
  {
   "cell_type": "code",
   "execution_count": 12,
   "id": "2d032376",
   "metadata": {},
   "outputs": [],
   "source": [
    "choice['genres'] = choice['genres'].apply(lambda x: \"$\".join(x))"
   ]
  },
  {
   "cell_type": "code",
   "execution_count": 13,
   "id": "8d1cdf93",
   "metadata": {},
   "outputs": [],
   "source": [
    "choice['cast'] = choice['cast'].apply(lambda x: \"$\".join(x))"
   ]
  },
  {
   "cell_type": "code",
   "execution_count": 14,
   "id": "32162403",
   "metadata": {},
   "outputs": [
    {
     "data": {
      "text/html": [
       "<div>\n",
       "<style scoped>\n",
       "    .dataframe tbody tr th:only-of-type {\n",
       "        vertical-align: middle;\n",
       "    }\n",
       "\n",
       "    .dataframe tbody tr th {\n",
       "        vertical-align: top;\n",
       "    }\n",
       "\n",
       "    .dataframe thead th {\n",
       "        text-align: right;\n",
       "    }\n",
       "</style>\n",
       "<table border=\"1\" class=\"dataframe\">\n",
       "  <thead>\n",
       "    <tr style=\"text-align: right;\">\n",
       "      <th></th>\n",
       "      <th>movie_id</th>\n",
       "      <th>title</th>\n",
       "      <th>genres</th>\n",
       "      <th>cast</th>\n",
       "      <th>popularity</th>\n",
       "    </tr>\n",
       "  </thead>\n",
       "  <tbody>\n",
       "    <tr>\n",
       "      <th>546</th>\n",
       "      <td>211672</td>\n",
       "      <td>Minions</td>\n",
       "      <td>Family$Animation$Adventure$Comedy</td>\n",
       "      <td>Sandra Bullock$Jon Hamm$Michael Keaton$Allison...</td>\n",
       "      <td>875.581305</td>\n",
       "    </tr>\n",
       "    <tr>\n",
       "      <th>95</th>\n",
       "      <td>157336</td>\n",
       "      <td>Interstellar</td>\n",
       "      <td>Adventure$Drama$Science Fiction</td>\n",
       "      <td>Matthew McConaughey$Jessica Chastain$Anne Hath...</td>\n",
       "      <td>724.247784</td>\n",
       "    </tr>\n",
       "    <tr>\n",
       "      <th>788</th>\n",
       "      <td>293660</td>\n",
       "      <td>Deadpool</td>\n",
       "      <td>Action$Adventure$Comedy</td>\n",
       "      <td>Ryan Reynolds$Morena Baccarin$Ed Skrein$T.J. M...</td>\n",
       "      <td>514.569956</td>\n",
       "    </tr>\n",
       "    <tr>\n",
       "      <th>94</th>\n",
       "      <td>118340</td>\n",
       "      <td>Guardians of the Galaxy</td>\n",
       "      <td>Action$Science Fiction$Adventure</td>\n",
       "      <td>Chris Pratt$Zoe Saldana$Dave Bautista$Vin Diesel</td>\n",
       "      <td>481.098624</td>\n",
       "    </tr>\n",
       "    <tr>\n",
       "      <th>127</th>\n",
       "      <td>76341</td>\n",
       "      <td>Mad Max: Fury Road</td>\n",
       "      <td>Action$Adventure$Science Fiction$Thriller</td>\n",
       "      <td>Tom Hardy$Charlize Theron$Nicholas Hoult$Hugh ...</td>\n",
       "      <td>434.278564</td>\n",
       "    </tr>\n",
       "  </tbody>\n",
       "</table>\n",
       "</div>"
      ],
      "text/plain": [
       "     movie_id                    title  \\\n",
       "546    211672                  Minions   \n",
       "95     157336             Interstellar   \n",
       "788    293660                 Deadpool   \n",
       "94     118340  Guardians of the Galaxy   \n",
       "127     76341       Mad Max: Fury Road   \n",
       "\n",
       "                                        genres  \\\n",
       "546          Family$Animation$Adventure$Comedy   \n",
       "95             Adventure$Drama$Science Fiction   \n",
       "788                    Action$Adventure$Comedy   \n",
       "94            Action$Science Fiction$Adventure   \n",
       "127  Action$Adventure$Science Fiction$Thriller   \n",
       "\n",
       "                                                  cast  popularity  \n",
       "546  Sandra Bullock$Jon Hamm$Michael Keaton$Allison...  875.581305  \n",
       "95   Matthew McConaughey$Jessica Chastain$Anne Hath...  724.247784  \n",
       "788  Ryan Reynolds$Morena Baccarin$Ed Skrein$T.J. M...  514.569956  \n",
       "94    Chris Pratt$Zoe Saldana$Dave Bautista$Vin Diesel  481.098624  \n",
       "127  Tom Hardy$Charlize Theron$Nicholas Hoult$Hugh ...  434.278564  "
      ]
     },
     "execution_count": 14,
     "metadata": {},
     "output_type": "execute_result"
    }
   ],
   "source": [
    "choice.head()"
   ]
  },
  {
   "cell_type": "code",
   "execution_count": 15,
   "id": "5f0c3236",
   "metadata": {},
   "outputs": [
    {
     "ename": "TypeError",
     "evalue": "__init__() got multiple values for argument 'schema'",
     "output_type": "error",
     "traceback": [
      "\u001b[1;31m---------------------------------------------------------------------------\u001b[0m",
      "\u001b[1;31mTypeError\u001b[0m                                 Traceback (most recent call last)",
      "\u001b[1;32m~\\AppData\\Local\\Temp\\ipykernel_13812\\3747978666.py\u001b[0m in \u001b[0;36m<module>\u001b[1;34m\u001b[0m\n\u001b[1;32m----> 1\u001b[1;33m \u001b[0mchoice\u001b[0m\u001b[1;33m.\u001b[0m\u001b[0mto_sql\u001b[0m\u001b[1;33m(\u001b[0m\u001b[1;34m'choice'\u001b[0m\u001b[1;33m,\u001b[0m \u001b[0mengine\u001b[0m\u001b[1;33m)\u001b[0m\u001b[1;33m\u001b[0m\u001b[0m\n\u001b[0m",
      "\u001b[1;32mc:\\users\\91817\\appdata\\local\\programs\\python\\python37\\lib\\site-packages\\pandas\\core\\generic.py\u001b[0m in \u001b[0;36mto_sql\u001b[1;34m(self, name, con, schema, if_exists, index, index_label, chunksize, dtype, method)\u001b[0m\n\u001b[0;32m   2613\u001b[0m             \u001b[0mchunksize\u001b[0m\u001b[1;33m=\u001b[0m\u001b[0mchunksize\u001b[0m\u001b[1;33m,\u001b[0m\u001b[1;33m\u001b[0m\u001b[0m\n\u001b[0;32m   2614\u001b[0m             \u001b[0mdtype\u001b[0m\u001b[1;33m=\u001b[0m\u001b[0mdtype\u001b[0m\u001b[1;33m,\u001b[0m\u001b[1;33m\u001b[0m\u001b[0m\n\u001b[1;32m-> 2615\u001b[1;33m             \u001b[0mmethod\u001b[0m\u001b[1;33m=\u001b[0m\u001b[0mmethod\u001b[0m\u001b[1;33m,\u001b[0m\u001b[1;33m\u001b[0m\u001b[0m\n\u001b[0m\u001b[0;32m   2616\u001b[0m         )\n\u001b[0;32m   2617\u001b[0m \u001b[1;33m\u001b[0m\u001b[0m\n",
      "\u001b[1;32mc:\\users\\91817\\appdata\\local\\programs\\python\\python37\\lib\\site-packages\\pandas\\io\\sql.py\u001b[0m in \u001b[0;36mto_sql\u001b[1;34m(frame, name, con, schema, if_exists, index, index_label, chunksize, dtype, method)\u001b[0m\n\u001b[0;32m    578\u001b[0m         \u001b[1;32mraise\u001b[0m \u001b[0mValueError\u001b[0m\u001b[1;33m(\u001b[0m\u001b[1;34mf\"'{if_exists}' is not valid for if_exists\"\u001b[0m\u001b[1;33m)\u001b[0m\u001b[1;33m\u001b[0m\u001b[0m\n\u001b[0;32m    579\u001b[0m \u001b[1;33m\u001b[0m\u001b[0m\n\u001b[1;32m--> 580\u001b[1;33m     \u001b[0mpandas_sql\u001b[0m \u001b[1;33m=\u001b[0m \u001b[0mpandasSQL_builder\u001b[0m\u001b[1;33m(\u001b[0m\u001b[0mcon\u001b[0m\u001b[1;33m,\u001b[0m \u001b[0mschema\u001b[0m\u001b[1;33m=\u001b[0m\u001b[0mschema\u001b[0m\u001b[1;33m)\u001b[0m\u001b[1;33m\u001b[0m\u001b[0m\n\u001b[0m\u001b[0;32m    581\u001b[0m \u001b[1;33m\u001b[0m\u001b[0m\n\u001b[0;32m    582\u001b[0m     \u001b[1;32mif\u001b[0m \u001b[0misinstance\u001b[0m\u001b[1;33m(\u001b[0m\u001b[0mframe\u001b[0m\u001b[1;33m,\u001b[0m \u001b[0mSeries\u001b[0m\u001b[1;33m)\u001b[0m\u001b[1;33m:\u001b[0m\u001b[1;33m\u001b[0m\u001b[0m\n",
      "\u001b[1;32mc:\\users\\91817\\appdata\\local\\programs\\python\\python37\\lib\\site-packages\\pandas\\io\\sql.py\u001b[0m in \u001b[0;36mpandasSQL_builder\u001b[1;34m(con, schema, meta, is_cursor)\u001b[0m\n\u001b[0;32m    654\u001b[0m     \u001b[0mcon\u001b[0m \u001b[1;33m=\u001b[0m \u001b[0m_engine_builder\u001b[0m\u001b[1;33m(\u001b[0m\u001b[0mcon\u001b[0m\u001b[1;33m)\u001b[0m\u001b[1;33m\u001b[0m\u001b[0m\n\u001b[0;32m    655\u001b[0m     \u001b[1;32mif\u001b[0m \u001b[0m_is_sqlalchemy_connectable\u001b[0m\u001b[1;33m(\u001b[0m\u001b[0mcon\u001b[0m\u001b[1;33m)\u001b[0m\u001b[1;33m:\u001b[0m\u001b[1;33m\u001b[0m\u001b[0m\n\u001b[1;32m--> 656\u001b[1;33m         \u001b[1;32mreturn\u001b[0m \u001b[0mSQLDatabase\u001b[0m\u001b[1;33m(\u001b[0m\u001b[0mcon\u001b[0m\u001b[1;33m,\u001b[0m \u001b[0mschema\u001b[0m\u001b[1;33m=\u001b[0m\u001b[0mschema\u001b[0m\u001b[1;33m,\u001b[0m \u001b[0mmeta\u001b[0m\u001b[1;33m=\u001b[0m\u001b[0mmeta\u001b[0m\u001b[1;33m)\u001b[0m\u001b[1;33m\u001b[0m\u001b[0m\n\u001b[0m\u001b[0;32m    657\u001b[0m     \u001b[1;32melif\u001b[0m \u001b[0misinstance\u001b[0m\u001b[1;33m(\u001b[0m\u001b[0mcon\u001b[0m\u001b[1;33m,\u001b[0m \u001b[0mstr\u001b[0m\u001b[1;33m)\u001b[0m\u001b[1;33m:\u001b[0m\u001b[1;33m\u001b[0m\u001b[0m\n\u001b[0;32m    658\u001b[0m         \u001b[1;32mraise\u001b[0m \u001b[0mImportError\u001b[0m\u001b[1;33m(\u001b[0m\u001b[1;34m\"Using URI string without sqlalchemy installed.\"\u001b[0m\u001b[1;33m)\u001b[0m\u001b[1;33m\u001b[0m\u001b[0m\n",
      "\u001b[1;32mc:\\users\\91817\\appdata\\local\\programs\\python\\python37\\lib\\site-packages\\pandas\\io\\sql.py\u001b[0m in \u001b[0;36m__init__\u001b[1;34m(self, engine, schema, meta)\u001b[0m\n\u001b[0;32m   1145\u001b[0m             \u001b[1;32mfrom\u001b[0m \u001b[0msqlalchemy\u001b[0m\u001b[1;33m.\u001b[0m\u001b[0mschema\u001b[0m \u001b[1;32mimport\u001b[0m \u001b[0mMetaData\u001b[0m\u001b[1;33m\u001b[0m\u001b[0m\n\u001b[0;32m   1146\u001b[0m \u001b[1;33m\u001b[0m\u001b[0m\n\u001b[1;32m-> 1147\u001b[1;33m             \u001b[0mmeta\u001b[0m \u001b[1;33m=\u001b[0m \u001b[0mMetaData\u001b[0m\u001b[1;33m(\u001b[0m\u001b[0mself\u001b[0m\u001b[1;33m.\u001b[0m\u001b[0mconnectable\u001b[0m\u001b[1;33m,\u001b[0m \u001b[0mschema\u001b[0m\u001b[1;33m=\u001b[0m\u001b[0mschema\u001b[0m\u001b[1;33m)\u001b[0m\u001b[1;33m\u001b[0m\u001b[0m\n\u001b[0m\u001b[0;32m   1148\u001b[0m \u001b[1;33m\u001b[0m\u001b[0m\n\u001b[0;32m   1149\u001b[0m         \u001b[0mself\u001b[0m\u001b[1;33m.\u001b[0m\u001b[0mmeta\u001b[0m \u001b[1;33m=\u001b[0m \u001b[0mmeta\u001b[0m\u001b[1;33m\u001b[0m\u001b[0m\n",
      "\u001b[1;31mTypeError\u001b[0m: __init__() got multiple values for argument 'schema'"
     ]
    }
   ],
   "source": [
    "choice.to_sql('choice', engine)"
   ]
  },
  {
   "cell_type": "code",
   "execution_count": 16,
   "id": "3b566a95",
   "metadata": {},
   "outputs": [],
   "source": [
    "engine = sqlalchemy.create_engine('sqlite:///popular.sqlite')"
   ]
  },
  {
   "cell_type": "code",
   "execution_count": 19,
   "id": "f9fe5995",
   "metadata": {},
   "outputs": [],
   "source": [
    "popular = pickle.load(open(r\"C:\\\\Users\\\\91817\\\\Desktop\\\\Next-Up-Microsoft-Intern-Engage\\\\model\\\\popular.pkl\", 'rb'))"
   ]
  },
  {
   "cell_type": "code",
   "execution_count": 20,
   "id": "0f3b2309",
   "metadata": {},
   "outputs": [],
   "source": [
    "popular = pd.DataFrame(popular, columns= ['movie_id','title','genres','release_date','popularity'])"
   ]
  },
  {
   "cell_type": "code",
   "execution_count": 21,
   "id": "217c20b5",
   "metadata": {},
   "outputs": [],
   "source": [
    "popular['genres'] = popular['genres'].apply(lambda x: \"$\".join(x))"
   ]
  },
  {
   "cell_type": "code",
   "execution_count": 22,
   "id": "97a724f4",
   "metadata": {},
   "outputs": [
    {
     "data": {
      "text/html": [
       "<div>\n",
       "<style scoped>\n",
       "    .dataframe tbody tr th:only-of-type {\n",
       "        vertical-align: middle;\n",
       "    }\n",
       "\n",
       "    .dataframe tbody tr th {\n",
       "        vertical-align: top;\n",
       "    }\n",
       "\n",
       "    .dataframe thead th {\n",
       "        text-align: right;\n",
       "    }\n",
       "</style>\n",
       "<table border=\"1\" class=\"dataframe\">\n",
       "  <thead>\n",
       "    <tr style=\"text-align: right;\">\n",
       "      <th></th>\n",
       "      <th>movie_id</th>\n",
       "      <th>title</th>\n",
       "      <th>genres</th>\n",
       "      <th>release_date</th>\n",
       "      <th>popularity</th>\n",
       "    </tr>\n",
       "  </thead>\n",
       "  <tbody>\n",
       "    <tr>\n",
       "      <th>546</th>\n",
       "      <td>211672</td>\n",
       "      <td>Minions</td>\n",
       "      <td>Family$Animation$Adventure$Comedy</td>\n",
       "      <td>17</td>\n",
       "      <td>875.581305</td>\n",
       "    </tr>\n",
       "    <tr>\n",
       "      <th>95</th>\n",
       "      <td>157336</td>\n",
       "      <td>Interstellar</td>\n",
       "      <td>Adventure$Drama$Science Fiction</td>\n",
       "      <td>05</td>\n",
       "      <td>724.247784</td>\n",
       "    </tr>\n",
       "    <tr>\n",
       "      <th>788</th>\n",
       "      <td>293660</td>\n",
       "      <td>Deadpool</td>\n",
       "      <td>Action$Adventure$Comedy</td>\n",
       "      <td>09</td>\n",
       "      <td>514.569956</td>\n",
       "    </tr>\n",
       "    <tr>\n",
       "      <th>94</th>\n",
       "      <td>118340</td>\n",
       "      <td>Guardians of the Galaxy</td>\n",
       "      <td>Action$Science Fiction$Adventure</td>\n",
       "      <td>30</td>\n",
       "      <td>481.098624</td>\n",
       "    </tr>\n",
       "    <tr>\n",
       "      <th>127</th>\n",
       "      <td>76341</td>\n",
       "      <td>Mad Max: Fury Road</td>\n",
       "      <td>Action$Adventure$Science Fiction$Thriller</td>\n",
       "      <td>13</td>\n",
       "      <td>434.278564</td>\n",
       "    </tr>\n",
       "  </tbody>\n",
       "</table>\n",
       "</div>"
      ],
      "text/plain": [
       "     movie_id                    title  \\\n",
       "546    211672                  Minions   \n",
       "95     157336             Interstellar   \n",
       "788    293660                 Deadpool   \n",
       "94     118340  Guardians of the Galaxy   \n",
       "127     76341       Mad Max: Fury Road   \n",
       "\n",
       "                                        genres release_date  popularity  \n",
       "546          Family$Animation$Adventure$Comedy           17  875.581305  \n",
       "95             Adventure$Drama$Science Fiction           05  724.247784  \n",
       "788                    Action$Adventure$Comedy           09  514.569956  \n",
       "94            Action$Science Fiction$Adventure           30  481.098624  \n",
       "127  Action$Adventure$Science Fiction$Thriller           13  434.278564  "
      ]
     },
     "execution_count": 22,
     "metadata": {},
     "output_type": "execute_result"
    }
   ],
   "source": [
    "popular.head()"
   ]
  },
  {
   "cell_type": "code",
   "execution_count": 23,
   "id": "9da921de",
   "metadata": {},
   "outputs": [
    {
     "ename": "TypeError",
     "evalue": "__init__() got multiple values for argument 'schema'",
     "output_type": "error",
     "traceback": [
      "\u001b[1;31m---------------------------------------------------------------------------\u001b[0m",
      "\u001b[1;31mTypeError\u001b[0m                                 Traceback (most recent call last)",
      "\u001b[1;32m~\\AppData\\Local\\Temp\\ipykernel_13812\\961669343.py\u001b[0m in \u001b[0;36m<module>\u001b[1;34m\u001b[0m\n\u001b[1;32m----> 1\u001b[1;33m \u001b[0mpopular\u001b[0m\u001b[1;33m.\u001b[0m\u001b[0mto_sql\u001b[0m\u001b[1;33m(\u001b[0m\u001b[1;34m'popular'\u001b[0m\u001b[1;33m,\u001b[0m \u001b[0mengine\u001b[0m\u001b[1;33m)\u001b[0m\u001b[1;33m\u001b[0m\u001b[0m\n\u001b[0m",
      "\u001b[1;32mc:\\users\\91817\\appdata\\local\\programs\\python\\python37\\lib\\site-packages\\pandas\\core\\generic.py\u001b[0m in \u001b[0;36mto_sql\u001b[1;34m(self, name, con, schema, if_exists, index, index_label, chunksize, dtype, method)\u001b[0m\n\u001b[0;32m   2613\u001b[0m             \u001b[0mchunksize\u001b[0m\u001b[1;33m=\u001b[0m\u001b[0mchunksize\u001b[0m\u001b[1;33m,\u001b[0m\u001b[1;33m\u001b[0m\u001b[0m\n\u001b[0;32m   2614\u001b[0m             \u001b[0mdtype\u001b[0m\u001b[1;33m=\u001b[0m\u001b[0mdtype\u001b[0m\u001b[1;33m,\u001b[0m\u001b[1;33m\u001b[0m\u001b[0m\n\u001b[1;32m-> 2615\u001b[1;33m             \u001b[0mmethod\u001b[0m\u001b[1;33m=\u001b[0m\u001b[0mmethod\u001b[0m\u001b[1;33m,\u001b[0m\u001b[1;33m\u001b[0m\u001b[0m\n\u001b[0m\u001b[0;32m   2616\u001b[0m         )\n\u001b[0;32m   2617\u001b[0m \u001b[1;33m\u001b[0m\u001b[0m\n",
      "\u001b[1;32mc:\\users\\91817\\appdata\\local\\programs\\python\\python37\\lib\\site-packages\\pandas\\io\\sql.py\u001b[0m in \u001b[0;36mto_sql\u001b[1;34m(frame, name, con, schema, if_exists, index, index_label, chunksize, dtype, method)\u001b[0m\n\u001b[0;32m    578\u001b[0m         \u001b[1;32mraise\u001b[0m \u001b[0mValueError\u001b[0m\u001b[1;33m(\u001b[0m\u001b[1;34mf\"'{if_exists}' is not valid for if_exists\"\u001b[0m\u001b[1;33m)\u001b[0m\u001b[1;33m\u001b[0m\u001b[0m\n\u001b[0;32m    579\u001b[0m \u001b[1;33m\u001b[0m\u001b[0m\n\u001b[1;32m--> 580\u001b[1;33m     \u001b[0mpandas_sql\u001b[0m \u001b[1;33m=\u001b[0m \u001b[0mpandasSQL_builder\u001b[0m\u001b[1;33m(\u001b[0m\u001b[0mcon\u001b[0m\u001b[1;33m,\u001b[0m \u001b[0mschema\u001b[0m\u001b[1;33m=\u001b[0m\u001b[0mschema\u001b[0m\u001b[1;33m)\u001b[0m\u001b[1;33m\u001b[0m\u001b[0m\n\u001b[0m\u001b[0;32m    581\u001b[0m \u001b[1;33m\u001b[0m\u001b[0m\n\u001b[0;32m    582\u001b[0m     \u001b[1;32mif\u001b[0m \u001b[0misinstance\u001b[0m\u001b[1;33m(\u001b[0m\u001b[0mframe\u001b[0m\u001b[1;33m,\u001b[0m \u001b[0mSeries\u001b[0m\u001b[1;33m)\u001b[0m\u001b[1;33m:\u001b[0m\u001b[1;33m\u001b[0m\u001b[0m\n",
      "\u001b[1;32mc:\\users\\91817\\appdata\\local\\programs\\python\\python37\\lib\\site-packages\\pandas\\io\\sql.py\u001b[0m in \u001b[0;36mpandasSQL_builder\u001b[1;34m(con, schema, meta, is_cursor)\u001b[0m\n\u001b[0;32m    654\u001b[0m     \u001b[0mcon\u001b[0m \u001b[1;33m=\u001b[0m \u001b[0m_engine_builder\u001b[0m\u001b[1;33m(\u001b[0m\u001b[0mcon\u001b[0m\u001b[1;33m)\u001b[0m\u001b[1;33m\u001b[0m\u001b[0m\n\u001b[0;32m    655\u001b[0m     \u001b[1;32mif\u001b[0m \u001b[0m_is_sqlalchemy_connectable\u001b[0m\u001b[1;33m(\u001b[0m\u001b[0mcon\u001b[0m\u001b[1;33m)\u001b[0m\u001b[1;33m:\u001b[0m\u001b[1;33m\u001b[0m\u001b[0m\n\u001b[1;32m--> 656\u001b[1;33m         \u001b[1;32mreturn\u001b[0m \u001b[0mSQLDatabase\u001b[0m\u001b[1;33m(\u001b[0m\u001b[0mcon\u001b[0m\u001b[1;33m,\u001b[0m \u001b[0mschema\u001b[0m\u001b[1;33m=\u001b[0m\u001b[0mschema\u001b[0m\u001b[1;33m,\u001b[0m \u001b[0mmeta\u001b[0m\u001b[1;33m=\u001b[0m\u001b[0mmeta\u001b[0m\u001b[1;33m)\u001b[0m\u001b[1;33m\u001b[0m\u001b[0m\n\u001b[0m\u001b[0;32m    657\u001b[0m     \u001b[1;32melif\u001b[0m \u001b[0misinstance\u001b[0m\u001b[1;33m(\u001b[0m\u001b[0mcon\u001b[0m\u001b[1;33m,\u001b[0m \u001b[0mstr\u001b[0m\u001b[1;33m)\u001b[0m\u001b[1;33m:\u001b[0m\u001b[1;33m\u001b[0m\u001b[0m\n\u001b[0;32m    658\u001b[0m         \u001b[1;32mraise\u001b[0m \u001b[0mImportError\u001b[0m\u001b[1;33m(\u001b[0m\u001b[1;34m\"Using URI string without sqlalchemy installed.\"\u001b[0m\u001b[1;33m)\u001b[0m\u001b[1;33m\u001b[0m\u001b[0m\n",
      "\u001b[1;32mc:\\users\\91817\\appdata\\local\\programs\\python\\python37\\lib\\site-packages\\pandas\\io\\sql.py\u001b[0m in \u001b[0;36m__init__\u001b[1;34m(self, engine, schema, meta)\u001b[0m\n\u001b[0;32m   1145\u001b[0m             \u001b[1;32mfrom\u001b[0m \u001b[0msqlalchemy\u001b[0m\u001b[1;33m.\u001b[0m\u001b[0mschema\u001b[0m \u001b[1;32mimport\u001b[0m \u001b[0mMetaData\u001b[0m\u001b[1;33m\u001b[0m\u001b[0m\n\u001b[0;32m   1146\u001b[0m \u001b[1;33m\u001b[0m\u001b[0m\n\u001b[1;32m-> 1147\u001b[1;33m             \u001b[0mmeta\u001b[0m \u001b[1;33m=\u001b[0m \u001b[0mMetaData\u001b[0m\u001b[1;33m(\u001b[0m\u001b[0mself\u001b[0m\u001b[1;33m.\u001b[0m\u001b[0mconnectable\u001b[0m\u001b[1;33m,\u001b[0m \u001b[0mschema\u001b[0m\u001b[1;33m=\u001b[0m\u001b[0mschema\u001b[0m\u001b[1;33m)\u001b[0m\u001b[1;33m\u001b[0m\u001b[0m\n\u001b[0m\u001b[0;32m   1148\u001b[0m \u001b[1;33m\u001b[0m\u001b[0m\n\u001b[0;32m   1149\u001b[0m         \u001b[0mself\u001b[0m\u001b[1;33m.\u001b[0m\u001b[0mmeta\u001b[0m \u001b[1;33m=\u001b[0m \u001b[0mmeta\u001b[0m\u001b[1;33m\u001b[0m\u001b[0m\n",
      "\u001b[1;31mTypeError\u001b[0m: __init__() got multiple values for argument 'schema'"
     ]
    }
   ],
   "source": [
    "popular.to_sql('popular', engine)"
   ]
  },
  {
   "cell_type": "code",
   "execution_count": 2,
   "id": "ae242bc2",
   "metadata": {},
   "outputs": [],
   "source": [
    "engine = sqlalchemy.create_engine('sqlite:///movies.sqlite')"
   ]
  },
  {
   "cell_type": "code",
   "execution_count": 4,
   "id": "4f5e18cb",
   "metadata": {},
   "outputs": [],
   "source": [
    "movies = pickle.load(open('./data/movies.pkl', 'rb'))"
   ]
  },
  {
   "cell_type": "code",
   "execution_count": 5,
   "id": "fd43d6f5",
   "metadata": {},
   "outputs": [],
   "source": [
    "movies = pd.DataFrame(movies, columns= ['movie_id', 'title', 'tagline', 'overview', 'genres', 'keywords', 'cast', 'crew', 'popularity', 'release_date','poster_path','trailer_key'])"
   ]
  },
  {
   "cell_type": "code",
   "execution_count": 6,
   "id": "aedbfa11",
   "metadata": {},
   "outputs": [],
   "source": [
    "movies['genres'] = movies['genres'].apply(lambda x: \"$\".join(x))"
   ]
  },
  {
   "cell_type": "code",
   "execution_count": 7,
   "id": "5041f7f0",
   "metadata": {},
   "outputs": [],
   "source": [
    "movies['keywords'] = movies['keywords'].apply(lambda x: \"$\".join(x))"
   ]
  },
  {
   "cell_type": "code",
   "execution_count": 8,
   "id": "ae933f0d",
   "metadata": {},
   "outputs": [],
   "source": [
    "movies['cast'] = movies['cast'].apply(lambda x: \"$\".join(x))"
   ]
  },
  {
   "cell_type": "code",
   "execution_count": 9,
   "id": "384955bd",
   "metadata": {},
   "outputs": [],
   "source": [
    "movies['crew'] = movies['crew'].apply(lambda x: \"$\".join(x))"
   ]
  },
  {
   "cell_type": "code",
   "execution_count": 10,
   "id": "20850559",
   "metadata": {},
   "outputs": [
    {
     "data": {
      "text/html": [
       "<div>\n",
       "<style scoped>\n",
       "    .dataframe tbody tr th:only-of-type {\n",
       "        vertical-align: middle;\n",
       "    }\n",
       "\n",
       "    .dataframe tbody tr th {\n",
       "        vertical-align: top;\n",
       "    }\n",
       "\n",
       "    .dataframe thead th {\n",
       "        text-align: right;\n",
       "    }\n",
       "</style>\n",
       "<table border=\"1\" class=\"dataframe\">\n",
       "  <thead>\n",
       "    <tr style=\"text-align: right;\">\n",
       "      <th></th>\n",
       "      <th>movie_id</th>\n",
       "      <th>title</th>\n",
       "      <th>tagline</th>\n",
       "      <th>overview</th>\n",
       "      <th>genres</th>\n",
       "      <th>keywords</th>\n",
       "      <th>cast</th>\n",
       "      <th>crew</th>\n",
       "      <th>popularity</th>\n",
       "      <th>release_date</th>\n",
       "      <th>poster_path</th>\n",
       "      <th>trailer_key</th>\n",
       "    </tr>\n",
       "  </thead>\n",
       "  <tbody>\n",
       "    <tr>\n",
       "      <th>0</th>\n",
       "      <td>19995</td>\n",
       "      <td>Avatar</td>\n",
       "      <td>Enter the World of Pandora.</td>\n",
       "      <td>In the 22nd century, a paraplegic Marine is di...</td>\n",
       "      <td>Action$Adventure$Fantasy$Science Fiction</td>\n",
       "      <td>culture clash$future$space war$space colony$so...</td>\n",
       "      <td>Sam Worthington$Zoe Saldana$Sigourney Weaver$S...</td>\n",
       "      <td>James Cameron</td>\n",
       "      <td>150.437577</td>\n",
       "      <td>2009</td>\n",
       "      <td>https://image.tmdb.org/t/p/original/jRXYjXNq0C...</td>\n",
       "      <td>5PSNL1qE6VY</td>\n",
       "    </tr>\n",
       "    <tr>\n",
       "      <th>1</th>\n",
       "      <td>285</td>\n",
       "      <td>Pirates of the Caribbean: At World's End</td>\n",
       "      <td>At the end of the world, the adventure begins.</td>\n",
       "      <td>Captain Barbossa, long believed to be dead, ha...</td>\n",
       "      <td>Adventure$Fantasy$Action</td>\n",
       "      <td>ocean$drug abuse$exotic island$east india trad...</td>\n",
       "      <td>Johnny Depp$Orlando Bloom$Keira Knightley$Stel...</td>\n",
       "      <td>Gore Verbinski</td>\n",
       "      <td>139.082615</td>\n",
       "      <td>2007</td>\n",
       "      <td>https://image.tmdb.org/t/p/original/2YMnBRh8F6...</td>\n",
       "      <td>HKSZtp_OGHY</td>\n",
       "    </tr>\n",
       "    <tr>\n",
       "      <th>2</th>\n",
       "      <td>206647</td>\n",
       "      <td>Spectre</td>\n",
       "      <td>A Plan No One Escapes</td>\n",
       "      <td>A cryptic message from Bond’s past sends him o...</td>\n",
       "      <td>Action$Adventure$Crime</td>\n",
       "      <td>spy$based on novel$secret agent$sequel$mi6$bri...</td>\n",
       "      <td>Daniel Craig$Christoph Waltz$Léa Seydoux$Ralph...</td>\n",
       "      <td>Sam Mendes</td>\n",
       "      <td>107.376788</td>\n",
       "      <td>2015</td>\n",
       "      <td>https://image.tmdb.org/t/p/original/zj8ongFhtW...</td>\n",
       "      <td>z4UDNzXD3qA</td>\n",
       "    </tr>\n",
       "    <tr>\n",
       "      <th>3</th>\n",
       "      <td>49026</td>\n",
       "      <td>The Dark Knight Rises</td>\n",
       "      <td>The Legend Ends</td>\n",
       "      <td>Following the death of District Attorney Harve...</td>\n",
       "      <td>Action$Crime$Drama$Thriller</td>\n",
       "      <td>dc comics$crime fighter$terrorist$secret ident...</td>\n",
       "      <td>Christian Bale$Michael Caine$Gary Oldman$Anne ...</td>\n",
       "      <td>Christopher Nolan</td>\n",
       "      <td>112.312950</td>\n",
       "      <td>2012</td>\n",
       "      <td>https://image.tmdb.org/t/p/original/85cWkCVfti...</td>\n",
       "      <td>GAjBzu8ggi0</td>\n",
       "    </tr>\n",
       "    <tr>\n",
       "      <th>4</th>\n",
       "      <td>49529</td>\n",
       "      <td>John Carter</td>\n",
       "      <td>Lost in our world, found in another.</td>\n",
       "      <td>John Carter is a war-weary, former military ca...</td>\n",
       "      <td>Action$Adventure$Science Fiction</td>\n",
       "      <td>based on novel$mars$medallion$space travel$pri...</td>\n",
       "      <td>Taylor Kitsch$Lynn Collins$Samantha Morton$Wil...</td>\n",
       "      <td>Andrew Stanton</td>\n",
       "      <td>43.926995</td>\n",
       "      <td>2012</td>\n",
       "      <td>https://image.tmdb.org/t/p/original/7GSSyUUgUE...</td>\n",
       "      <td>WR6HUkzxjR0</td>\n",
       "    </tr>\n",
       "  </tbody>\n",
       "</table>\n",
       "</div>"
      ],
      "text/plain": [
       "   movie_id                                     title  \\\n",
       "0     19995                                    Avatar   \n",
       "1       285  Pirates of the Caribbean: At World's End   \n",
       "2    206647                                   Spectre   \n",
       "3     49026                     The Dark Knight Rises   \n",
       "4     49529                               John Carter   \n",
       "\n",
       "                                          tagline  \\\n",
       "0                     Enter the World of Pandora.   \n",
       "1  At the end of the world, the adventure begins.   \n",
       "2                           A Plan No One Escapes   \n",
       "3                                 The Legend Ends   \n",
       "4            Lost in our world, found in another.   \n",
       "\n",
       "                                            overview  \\\n",
       "0  In the 22nd century, a paraplegic Marine is di...   \n",
       "1  Captain Barbossa, long believed to be dead, ha...   \n",
       "2  A cryptic message from Bond’s past sends him o...   \n",
       "3  Following the death of District Attorney Harve...   \n",
       "4  John Carter is a war-weary, former military ca...   \n",
       "\n",
       "                                     genres  \\\n",
       "0  Action$Adventure$Fantasy$Science Fiction   \n",
       "1                  Adventure$Fantasy$Action   \n",
       "2                    Action$Adventure$Crime   \n",
       "3               Action$Crime$Drama$Thriller   \n",
       "4          Action$Adventure$Science Fiction   \n",
       "\n",
       "                                            keywords  \\\n",
       "0  culture clash$future$space war$space colony$so...   \n",
       "1  ocean$drug abuse$exotic island$east india trad...   \n",
       "2  spy$based on novel$secret agent$sequel$mi6$bri...   \n",
       "3  dc comics$crime fighter$terrorist$secret ident...   \n",
       "4  based on novel$mars$medallion$space travel$pri...   \n",
       "\n",
       "                                                cast               crew  \\\n",
       "0  Sam Worthington$Zoe Saldana$Sigourney Weaver$S...      James Cameron   \n",
       "1  Johnny Depp$Orlando Bloom$Keira Knightley$Stel...     Gore Verbinski   \n",
       "2  Daniel Craig$Christoph Waltz$Léa Seydoux$Ralph...         Sam Mendes   \n",
       "3  Christian Bale$Michael Caine$Gary Oldman$Anne ...  Christopher Nolan   \n",
       "4  Taylor Kitsch$Lynn Collins$Samantha Morton$Wil...     Andrew Stanton   \n",
       "\n",
       "   popularity release_date                                        poster_path  \\\n",
       "0  150.437577         2009  https://image.tmdb.org/t/p/original/jRXYjXNq0C...   \n",
       "1  139.082615         2007  https://image.tmdb.org/t/p/original/2YMnBRh8F6...   \n",
       "2  107.376788         2015  https://image.tmdb.org/t/p/original/zj8ongFhtW...   \n",
       "3  112.312950         2012  https://image.tmdb.org/t/p/original/85cWkCVfti...   \n",
       "4   43.926995         2012  https://image.tmdb.org/t/p/original/7GSSyUUgUE...   \n",
       "\n",
       "   trailer_key  \n",
       "0  5PSNL1qE6VY  \n",
       "1  HKSZtp_OGHY  \n",
       "2  z4UDNzXD3qA  \n",
       "3  GAjBzu8ggi0  \n",
       "4  WR6HUkzxjR0  "
      ]
     },
     "execution_count": 10,
     "metadata": {},
     "output_type": "execute_result"
    }
   ],
   "source": [
    "movies.head()"
   ]
  },
  {
   "cell_type": "code",
   "execution_count": 11,
   "id": "5e33a314",
   "metadata": {},
   "outputs": [
    {
     "data": {
      "text/plain": [
       "4808"
      ]
     },
     "execution_count": 11,
     "metadata": {},
     "output_type": "execute_result"
    }
   ],
   "source": [
    "movies.to_sql('movies', engine)"
   ]
  },
  {
   "cell_type": "code",
   "execution_count": null,
   "id": "846d34c5",
   "metadata": {},
   "outputs": [],
   "source": []
  }
 ],
 "metadata": {
  "kernelspec": {
   "display_name": "Python 3 (ipykernel)",
   "language": "python",
   "name": "python3"
  },
  "language_info": {
   "codemirror_mode": {
    "name": "ipython",
    "version": 3
   },
   "file_extension": ".py",
   "mimetype": "text/x-python",
   "name": "python",
   "nbconvert_exporter": "python",
   "pygments_lexer": "ipython3",
   "version": "3.7.0"
  }
 },
 "nbformat": 4,
 "nbformat_minor": 5
}
